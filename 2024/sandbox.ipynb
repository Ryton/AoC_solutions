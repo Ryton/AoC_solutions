{
 "cells": [
  {
   "cell_type": "code",
   "execution_count": null,
   "metadata": {},
   "outputs": [],
   "source": [
    "\n"
   ]
  },
  {
   "cell_type": "code",
   "execution_count": 2,
   "metadata": {},
   "outputs": [],
   "source": [
    "from itertools import count\n",
    "import numpy as np\n",
    "import pandas as pd\n",
    "import os\n",
    "from helperfunctions import *"
   ]
  },
  {
   "cell_type": "code",
   "execution_count": 20,
   "metadata": {},
   "outputs": [],
   "source": [
    "\n",
    "from aocd import submit, get_data \n",
    "#!pip install aocd\n",
    "\n"
   ]
  },
  {
   "cell_type": "code",
   "execution_count": 68,
   "metadata": {},
   "outputs": [
    {
     "name": "stdout",
     "output_type": "stream",
     "text": [
      "day2a: 383\n",
      "day2b: 435\n"
     ]
    }
   ],
   "source": [
    "import copy\n",
    "year= 2024\n",
    "day = 2\n",
    "\n",
    "\n",
    "\n",
    "def accepted(diffarray):\n",
    "    return ((np.all(-3<=diffarray) and np.all(diffarray<=-1))  or (np.all(3>=diffarray) and np.all(diffarray>=1)))\n",
    "\n",
    "partB=True\n",
    "for i in reports.index:\n",
    "    txtrapport =reports.iloc[i].values[0]\n",
    "    rapport=np.array(txtrapport.split(\" \")).astype(int)\n",
    "    d = np.diff(rapport)\n",
    "    if accepted(d):\n",
    "        s+= 1 # a\n",
    "        sb +=1 # b\n",
    "        #print(\"part A accepted:\", rapport, d)\n",
    "    else:\n",
    "        ok =False\n",
    "        droppedlast = -1\n",
    "        if partB:\n",
    "            for k in range(len(rapport)):\n",
    "                shorterrapport=np.delete(rapport,k)\n",
    "                shorterd = np.diff(shorterrapport)\n",
    "                if accepted(shorterd):\n",
    "                    ok=True\n",
    "                    droppedlast = k\n",
    "            if ok:\n",
    "                sb +=1 \n",
    "                #print(f\"part B by dropping: {droppedlast}\", rapport, d)\n",
    "print(f\"day{day}a:\",s) # not 45. not 384\n",
    "print(f\"day{day}b:\",sb) # part b: 439 too high, 435 too low  => 436 but why?\n",
    "\n",
    "\n"
   ]
  },
  {
   "cell_type": "code",
   "execution_count": 67,
   "metadata": {},
   "outputs": [
    {
     "name": "stdout",
     "output_type": "stream",
     "text": [
      "[47 42 39 37]\n"
     ]
    }
   ],
   "source": [
    "\n",
    "\n",
    "print(b)"
   ]
  },
  {
   "cell_type": "code",
   "execution_count": null,
   "metadata": {},
   "outputs": [],
   "source": []
  },
  {
   "cell_type": "code",
   "execution_count": null,
   "metadata": {},
   "outputs": [],
   "source": []
  }
 ],
 "metadata": {
  "kernelspec": {
   "display_name": "base",
   "language": "python",
   "name": "python3"
  },
  "language_info": {
   "codemirror_mode": {
    "name": "ipython",
    "version": 3
   },
   "file_extension": ".py",
   "mimetype": "text/x-python",
   "name": "python",
   "nbconvert_exporter": "python",
   "pygments_lexer": "ipython3",
   "version": "3.11.5"
  }
 },
 "nbformat": 4,
 "nbformat_minor": 2
}
